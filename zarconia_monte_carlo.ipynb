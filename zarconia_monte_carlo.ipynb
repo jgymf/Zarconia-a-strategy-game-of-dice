{
 "cells": [
  {
   "cell_type": "code",
   "execution_count": 44,
   "id": "cad7d9c6",
   "metadata": {},
   "outputs": [],
   "source": [
    "import random\n",
    "import numpy as np\n",
    "import pandas as pd"
   ]
  },
  {
   "cell_type": "code",
   "execution_count": 2,
   "id": "04017e93",
   "metadata": {},
   "outputs": [],
   "source": [
    "%matplotlib inline\n",
    "from matplotlib import pyplot as plt"
   ]
  },
  {
   "cell_type": "code",
   "execution_count": 3,
   "id": "01917a22",
   "metadata": {},
   "outputs": [],
   "source": [
    "# Part 1 of problem\n",
    "#==================\n",
    "\n",
    "# I assume in what follows that the dices are fair."
   ]
  },
  {
   "cell_type": "code",
   "execution_count": 4,
   "id": "87a11ad2",
   "metadata": {},
   "outputs": [
    {
     "name": "stdout",
     "output_type": "stream",
     "text": [
      "basic_score_matrix = \n",
      " [[  1.   6.   4.   5.   6.   7.   8.   9.  10.  22.]\n",
      " [  6.   0.  10.   6.   7.   8.   9.  10.  11.  12.]\n",
      " [  4.  10.  -3.  14.   8.   9.  10.  11.  12.  13.]\n",
      " [  5.   6.  14.  -8.  18.  10.  11.  12.  13.  14.]\n",
      " [  6.   7.   8.  18. -15.  22.  12.  13.  14.  15.]\n",
      " [  7.   8.   9.  10.  22. -24.  26.  14.  15.  16.]\n",
      " [  8.   9.  10.  11.  12.  26. -35.  30.  16.  17.]\n",
      " [  9.  10.  11.  12.  13.  14.  30. -48.  34.  18.]\n",
      " [ 10.  11.  12.  13.  14.  15.  16.  34. -63.  38.]\n",
      " [ 22.  12.  13.  14.  15.  16.  17.  18.  38. -80.]]\n"
     ]
    }
   ],
   "source": [
    "# Implementation of the first strategy, which I denote here as strategy1\n",
    "\n",
    "lowest_val  = 1  # dice lowest value\n",
    "highest_val = 10 # dice highest valie\n",
    "\n",
    "\n",
    "def calculate_score(X,Y):\n",
    "        \"\"\"\n",
    "        Returns basic score for pair of dice outcomes X and Y\n",
    "        \"\"\"\n",
    "        total_score = X + Y\n",
    "        \n",
    "        a = X % highest_val\n",
    "        b = Y % highest_val\n",
    "        \n",
    "        rule_1 = (abs(a-b)==1 or abs(a-b)==highest_val-1)\n",
    "        rule_2 = (X==Y)\n",
    "        \n",
    "        if (rule_1):\n",
    "            total_score *= 2\n",
    "        \n",
    "        if (rule_2):\n",
    "            total_score -= (X**2)\n",
    "            \n",
    "        return total_score\n",
    "    \n",
    "# I create a 10x10 matrix to store my basic scores. Will need them many times\n",
    "# ... and won't have to recalculate them at every turn!\n",
    "\n",
    "basic_score_matrix = np.zeros((highest_val,highest_val))\n",
    "for i in range(highest_val):\n",
    "    for k in range(i,highest_val):\n",
    "        basic_score_matrix[i][k] = calculate_score(i+1,k+1)\n",
    "        basic_score_matrix[k][i] = basic_score_matrix[i][k]\n",
    "\n",
    "print(\"basic_score_matrix = \\n\", basic_score_matrix)"
   ]
  },
  {
   "cell_type": "code",
   "execution_count": 5,
   "id": "e5cf797f",
   "metadata": {},
   "outputs": [],
   "source": [
    "def strategy1_score(number_of_trials,lowest_val=1,highest_val=10):\n",
    "    \"\"\"\n",
    "    Function returns a numpy array of the scores\n",
    "    *lowest_val = lowest value on dice\n",
    "    *highest_val = highest value on dice\n",
    "    \"\"\"\n",
    "    total_score_array = []\n",
    "    for case in range(number_of_trials):\n",
    "        dice_1 = random.randint(lowest_val,highest_val) # outcome of first dice\n",
    "        dice_2 = random.randint(lowest_val,highest_val) # outcome of second dice\n",
    "        \n",
    "        total_score = basic_score_matrix[dice_1-1][dice_2-1]\n",
    "            \n",
    "        total_score_array.append(total_score)\n",
    "        \n",
    "        #C: comment this out\n",
    "        #C: interesting, let's see...\n",
    "        #if (total_score==42):\n",
    "        #    print(\"score is {score}, dice_1={d1} dice_2={d2}\".format(score=total_score,d1=dice_1,d2=dice_2))\n",
    "        \n",
    "    return np.array(total_score_array)\n",
    "    "
   ]
  },
  {
   "cell_type": "code",
   "execution_count": 6,
   "id": "f9083867",
   "metadata": {},
   "outputs": [],
   "source": [
    "# Given that the standard deviation of the possible scores is high \n",
    "# (mostly above the mean score for strategy1 -- because of outliers in the scores),\n",
    "# it may be better to use the median as the expectation value of the score, rather than the mean, \n",
    "# when the number of runs is relatively small (say<1000)."
   ]
  },
  {
   "cell_type": "code",
   "execution_count": 42,
   "id": "7deb19eb",
   "metadata": {},
   "outputs": [],
   "source": [
    "def play_zarconia(score_func,number_trials,lowest_val=1,highest_val=10,vbins=20):\n",
    "    \"\"\"\n",
    "    The function returns: i) a histogram plot of the scores, and \n",
    "                         ii) the median of the results as expectation value.\n",
    "    Inputs are:\n",
    "        1. score_func = a function describing how scores are marked\n",
    "        2. number_trials = number of runs\n",
    "        3. lowest_val = lowest value of dice\n",
    "        4. highest_val = highest value of dice\n",
    "        5. vbins = bins value for the histogram\n",
    "    \"\"\"\n",
    "    trial_scores = pd.Series(score_func(number_trials,lowest_val,highest_val))\n",
    "    print(trial_scores.describe())\n",
    "    print(\" \")\n",
    "    trial_scores.hist(bins=vbins)\n",
    "    print(\"Expectation value of score = {expectation_value}\".format(expectation_value=trial_scores.mean()\n",
    "                                                                   )\n",
    "         )\n",
    "    #C: Uncomment the line below if you want to see the normalized frequencies of the scores\n",
    "    #print(trial_scores.value_counts(normalize=True))"
   ]
  },
  {
   "cell_type": "code",
   "execution_count": 43,
   "id": "65b5326d",
   "metadata": {},
   "outputs": [
    {
     "name": "stdout",
     "output_type": "stream",
     "text": [
      "count    1000000.000000\n",
      "mean           9.335466\n",
      "std           16.443211\n",
      "min          -80.000000\n",
      "25%            8.000000\n",
      "50%           11.000000\n",
      "75%           15.000000\n",
      "max           38.000000\n",
      "dtype: float64\n",
      " \n",
      "Expectation value of score = 9.335466\n"
     ]
    },
    {
     "data": {
      "image/png": "[encoded data removed]",
      "text/plain": [
       "<Figure size 640x480 with 1 Axes>"
      ]
     },
     "metadata": {},
     "output_type": "display_data"
    }
   ],
   "source": [
    "#Example, say we want to play the Zarconia game in 10**6 runs. Then,\n",
    "\n",
    "play_zarconia(strategy1_score,number_trials=10**6,lowest_val=lowest_val,highest_val=highest_val)"
   ]
  },
  {
   "cell_type": "code",
   "execution_count": 9,
   "id": "021c3814",
   "metadata": {},
   "outputs": [],
   "source": [
    "# ANALYTICAL EXPRESSION FOR THE EXPECTATION VALUE OF THE SCORE ACCORDING TO STRATEGY1:\n",
    "\n",
    "# E[score] = \\Sum_{(X,Y)} prob(X,Y)*[X+Y+bonus(X,Y)-penalty(X,Y)]\n",
    "#          = [(N+1)/N]*[(4*N+11)/6]   \n",
    "# where N = maximum value on dice.\n",
    "\n",
    "\n",
    "def prob(X,Y):\n",
    "    result = 2/(highest_val**2) #frequency of THIS pair (X,Y), with X!=Y.\n",
    "    if (X==Y):\n",
    "        result = 1/(highest_val**2) #frequency of THIS pair (X,Y), with X==Y.\n",
    "    return result\n",
    "\n",
    "def bonus(X,Y):\n",
    "    a = X % highest_val\n",
    "    b = Y % highest_val        \n",
    "    condition = (abs(a-b)==1 or abs(a-b)==highest_val-1)\n",
    "    result = 0\n",
    "    if (condition):\n",
    "        result = X+Y\n",
    "    return result\n",
    "\n",
    "def penalty(X,Y):\n",
    "    result = 0\n",
    "    if (X==Y):\n",
    "        result = X*X\n",
    "    return result\n",
    "\n",
    "def strategy1_analytic_score_expectation_value():\n",
    "    expectation_value = 0.0\n",
    "    for X in range(lowest_val,highest_val+1):\n",
    "        for Y in range(X,highest_val+1):\n",
    "            expectation_value +=prob(X,Y)*float(X+Y+bonus(X,Y)-penalty(X,Y))\n",
    "    return expectation_value"
   ]
  },
  {
   "cell_type": "code",
   "execution_count": 10,
   "id": "10dfb9f8",
   "metadata": {},
   "outputs": [
    {
     "name": "stdout",
     "output_type": "stream",
     "text": [
      "9.35\n"
     ]
    }
   ],
   "source": [
    "# I calculate below the analytical expectation value of the score using strategy1:\n",
    "\n",
    "print(strategy1_analytic_score_expectation_value())"
   ]
  },
  {
   "cell_type": "code",
   "execution_count": 11,
   "id": "be214609",
   "metadata": {},
   "outputs": [],
   "source": [
    "# We note that this value is close to the value we got above from the simulation."
   ]
  },
  {
   "cell_type": "code",
   "execution_count": 12,
   "id": "f2101d84",
   "metadata": {},
   "outputs": [],
   "source": [
    "# A general and simple analytic expression for the expectation value of the score from strategy1:\n",
    "# N is the maximum value on the dice (values running from 1 to N, extrema included, of course).\n",
    "\n",
    "def re_strategy1_analytic_score_expectation_value(N):\n",
    "    result = 0\n",
    "    \n",
    "    if (N==0):\n",
    "        return 0\n",
    "    \n",
    "    if (N==1):\n",
    "        result = 1\n",
    "        \n",
    "    if (N>1):\n",
    "        result = (N+1)*(4*N+11)/(6*N)\n",
    "        if (N==2):\n",
    "            result -= 1.5\n",
    "    \n",
    "    return result"
   ]
  },
  {
   "cell_type": "code",
   "execution_count": 13,
   "id": "ec52c0e2",
   "metadata": {},
   "outputs": [],
   "source": [
    "def plot_re_strategy1_analytic_score_expectation_value(Nlist):\n",
    "    data = []\n",
    "    for x in Nlist:\n",
    "        y = re_strategy1_analytic_score_expectation_value(x)\n",
    "        data.append(y)\n",
    "    plt.scatter(Nlist,data)\n",
    "    plt.xlabel('N')\n",
    "    plt.ylabel('E[s], score expectation value')\n",
    "    plt.title('E[s] in function of N')\n",
    "    plt.show()\n",
    "    \n",
    "    print(\"{:^15} {:^15}\\n\".format('N','E[s]'))\n",
    "    for n in range(len(Nlist)):\n",
    "        print(\"{:^15} {:^15}\".format(Nlist[n],round(data[n],4)))"
   ]
  },
  {
   "cell_type": "code",
   "execution_count": 14,
   "id": "13c848a4",
   "metadata": {},
   "outputs": [
    {
     "data": {
      "image/png": "[encoded data removed]",
      "text/plain": [
       "<Figure size 640x480 with 1 Axes>"
      ]
     },
     "metadata": {},
     "output_type": "display_data"
    },
    {
     "name": "stdout",
     "output_type": "stream",
     "text": [
      "       N             E[s]      \n",
      "\n",
      "       1               1       \n",
      "       2             3.25      \n",
      "       3            5.1111     \n",
      "       4             5.625     \n",
      "       5              6.2      \n",
      "       6            6.8056     \n",
      "       7            7.4286     \n",
      "       8            8.0625     \n",
      "       9            8.7037     \n",
      "      10             9.35      \n",
      "      11             10.0      \n",
      "      12            10.6528    \n",
      "      13            11.3077    \n",
      "      14            11.9643    \n",
      "      15            12.6222    \n",
      "      16            13.2812    \n",
      "      17            13.9412    \n",
      "      18            14.6019    \n",
      "      19            15.2632    \n",
      "      20            15.925     \n"
     ]
    }
   ],
   "source": [
    "# Plot E[s] in function of N\n",
    "Nlist = [i for i in range(1,21)]\n",
    "plot_re_strategy1_analytic_score_expectation_value(Nlist)"
   ]
  },
  {
   "cell_type": "code",
   "execution_count": 15,
   "id": "97066ee1",
   "metadata": {},
   "outputs": [],
   "source": [
    "## Part 2 of problem\n",
    "#===================\n",
    "\n"
   ]
  },
  {
   "cell_type": "code",
   "execution_count": 16,
   "id": "98fdcc71",
   "metadata": {},
   "outputs": [],
   "source": [
    "# Implementation of updated strategy\n",
    "\n",
    "# With this strategy, we re-roll the dice (X) with the smaller outcome when the other dice (Y) has an outcome < 5\n",
    "# OR when X==Y.\n",
    "\n",
    "def strategy2_score(number_of_trials,lowest_val=1,highest_val=0):\n",
    "    \"\"\"\n",
    "    Function returns a numpy array of the scores\n",
    "    *lowest_val = lowest value on dice\n",
    "    *highest_val = highest value on dice\n",
    "    \"\"\"\n",
    "    total_score_array = []\n",
    "    \n",
    "    for case in range(number_of_trials):\n",
    "        dice_1 = random.randint(lowest_val,highest_val) # outcome of first dice\n",
    "        dice_2 = random.randint(lowest_val,highest_val) # outcome of second dice\n",
    "\n",
    "        X = min(dice_1,dice_2)\n",
    "        Y = max(dice_1,dice_2)\n",
    "        BOOL = (X==Y)  \n",
    "        rule_0 = ((Y<11) or BOOL)\n",
    "        \n",
    "        if (rule_0):\n",
    "            X = random.randint(lowest_val,highest_val)\n",
    "            \n",
    "        total_score = basic_score_matrix[X-1][Y-1]\n",
    "            \n",
    "        total_score_array.append(total_score)\n",
    "        \n",
    "\n",
    "    return np.array(total_score_array)"
   ]
  },
  {
   "cell_type": "code",
   "execution_count": 17,
   "id": "e775a1ae",
   "metadata": {},
   "outputs": [
    {
     "name": "stdout",
     "output_type": "stream",
     "text": [
      "count    1.000000e+07\n",
      "mean     9.679814e+00\n",
      "std      2.059372e+01\n",
      "min     -8.000000e+01\n",
      "25%      9.000000e+00\n",
      "50%      1.300000e+01\n",
      "75%      1.600000e+01\n",
      "max      3.800000e+01\n",
      "dtype: float64\n",
      " \n",
      "Expectation value of score = 9.6798142\n"
     ]
    },
    {
     "data": {
      "image/png": "[encoded data removed]",
      "text/plain": [
       "<Figure size 640x480 with 1 Axes>"
      ]
     },
     "metadata": {},
     "output_type": "display_data"
    }
   ],
   "source": [
    "# Let's play the same game, but now with the updated, i.e. strategy2_score:\n",
    "# Example, say we want to play the game with 10**6 runs as we did before. Then,\n",
    "\n",
    "play_zarconia(strategy2_score,number_trials=10**7,lowest_val=lowest_val,highest_val=highest_val)\n"
   ]
  },
  {
   "cell_type": "code",
   "execution_count": 18,
   "id": "edfb3b2a",
   "metadata": {},
   "outputs": [],
   "source": [
    "#The last input clearly shows that this second strategy improves the expectation score value \n",
    "# ... with respect to the previous strategy.\n",
    "# This comes as no surprise since, with the second roll, we get the chance to avoid incurring some penalties, \n",
    "# albeit not always successful."
   ]
  },
  {
   "cell_type": "code",
   "execution_count": 19,
   "id": "40887adc",
   "metadata": {},
   "outputs": [],
   "source": [
    "# This second strategy certainly yields higher scores compared to the first strategy, mostly \n",
    "# because we re-roll the dice with the smaller value and maintain the value of the other dice to be >=5."
   ]
  },
  {
   "cell_type": "code",
   "execution_count": 20,
   "id": "e9bae0e3",
   "metadata": {},
   "outputs": [],
   "source": [
    "# ANALYTICAL EXPRESSION FOR THE EXPECTATION VALUE OF THE SCORE ACCORDING TO STRATEGY2:\n",
    "\n",
    "# E[score,n] = \\Sum_{(X,Y)} prob(X,Y)*f_{step}(X,Y,n)*[X+Y+bonus(X,Y)-penalty(X,Y)]\n",
    "#                + prob(X,Y)*[1-f_{step}(X,Y,n)]*[\\Sum_{z} prob(z,Y)* [z+Y+bonus(z,Y)-penalty(z,Y)]]\n",
    "\n",
    "# where X=min(dice1,dice2), Y=max(dice1,dice2), 1<=z<=10, and\n",
    "# f_{step}(X,Y,n) = a step function which is 0 when Y<n or X==Y, and 1 otherwise.\n",
    "\n",
    "# I implement the expression below as 'strategy2_analytic_score_expectation_value(n):'\n",
    "\n",
    "def f_step_function(X,Y,n):\n",
    "    result = 1.0\n",
    "    if (Y<n or X==Y):\n",
    "        result = 0.0\n",
    "    return result\n",
    "\n",
    "def expectation_value_of_second_roll(Y):\n",
    "    \"\"\"\n",
    "    Returns expectation value of score at the second turn\n",
    "    if the second dice has outcome Y.\n",
    "    \"\"\"\n",
    "    result = 0.0\n",
    "    for z in range(lowest_val,highest_val+1):\n",
    "        #result += prob(z,Y)*float(z+Y+bonus(z,Y)-penalty(z,Y))\n",
    "        result += float(z+Y+bonus(z,Y)-penalty(z,Y))/highest_val\n",
    "    return result\n",
    "\n",
    "# Since we shall need to call expectation_value_of_second_roll(Y) several times,\n",
    "# I prefer creating a list of all its possible outcomes (which are 10 in total)\n",
    "# and then just call the values when needed.\n",
    "expectation_value_of_second_roll_list = []\n",
    "for m in range(lowest_val,highest_val+1):\n",
    "    result = expectation_value_of_second_roll(m)\n",
    "    expectation_value_of_second_roll_list.append(result)\n",
    "\n",
    "def strategy2_analytic_score_expectation_value(n):\n",
    "    global expectation_value_of_second_roll_list\n",
    "    expectation_value = 0\n",
    "    for N in range(lowest_val,highest_val+1):\n",
    "        for M in range(N,highest_val+1):\n",
    "            X = min(N,M)\n",
    "            Y = max(N,M)\n",
    "            #print('X, Y =',X,Y)\n",
    "            if (f_step_function(X,Y,n)==1.0):\n",
    "                expectation_value +=prob(X,Y)*float(X+Y+bonus(X,Y)-penalty(X,Y))\n",
    "            else:\n",
    "                expectation_value +=prob(X,Y)*expectation_value_of_second_roll_list[Y-1]\n",
    "    return expectation_value    "
   ]
  },
  {
   "cell_type": "code",
   "execution_count": 21,
   "id": "073fc905",
   "metadata": {},
   "outputs": [
    {
     "name": "stdout",
     "output_type": "stream",
     "text": [
      "    n      expectation value of score (analytical)\n",
      "    1      13.035\n",
      "    2      13.035\n",
      "    3      13.073\n",
      "    4      13.145\n",
      "    5      13.215\n",
      "    6      13.235\n",
      "    7      13.145\n",
      "    8      12.873\n",
      "    9      12.335\n",
      "    10     11.435\n",
      "    11     9.665\n"
     ]
    }
   ],
   "source": [
    "# I calculate below the numerically values of the analytic expectation values of the score in function of n,\n",
    "# where n is the integer we choose to roll the dice a second time if Y(which is max(dice1,dice2)) happens to be\n",
    "# less than it.\n",
    "\n",
    "decimal_precision = 5\n",
    "\n",
    "print(\"{:^10} {:>5}\".format(\"n\",\"expectation value of score (analytical)\"))\n",
    "for n in range(lowest_val,highest_val+2): # '+2' because we want to include the case Y<11\n",
    "    answer = strategy2_analytic_score_expectation_value(n)\n",
    "    print(\"{:^10} {:>5}\".format(n,round(answer,decimal_precision)))"
   ]
  },
  {
   "cell_type": "code",
   "execution_count": 22,
   "id": "cf89cdb9",
   "metadata": {},
   "outputs": [],
   "source": [
    "# From the values above, we see that the expectation value of the score decreases as we increase n. \n",
    "# This is related to the fact that, as we increase n, there is more chance that we incur a penalty at the second roll.\n",
    "\n",
    "# The fact that the expectation value of the score in the cases n=1 and n=2 coincide with each other\n",
    "# is easily deducible from the analytical expression given above for the expectation value of the score.\n",
    "\n",
    "# Obviously, because the maximum value either dice can have is 10, \n",
    "# the expectation value for n=11 is a tight lower bound for the expectation value of the scores as a function of n.\n",
    "# In other words, for n>=11, the expectation value is 2.3565. \n",
    "# Analogously, 12.3145 is tight upper bound on the expectation value."
   ]
  },
  {
   "cell_type": "code",
   "execution_count": 23,
   "id": "73f4743b",
   "metadata": {},
   "outputs": [],
   "source": [
    "# Part 3\n",
    "#=======\n",
    "# Let X=min(dice1, dice2)\n",
    "# Let Y=max(dice1, dice2)\n",
    "# Say we choose a strategy whereby we role dice with the X value if X==Y or total_score<mean(score_of_strategy1=9)\n",
    "# -- as suggested by Jan to be a possibly good strategy.\n",
    "# Let's call this 'strategy3_score'\n",
    "\n",
    "def strategy3_score(number_of_trials,lowest_val=1,highest_val=10):\n",
    "    \"\"\"\n",
    "    Function returns a numpy array of the scores\n",
    "    *lowest_val = lowest value on dice\n",
    "    *highest_val = highest value on dice\n",
    "    \"\"\"\n",
    "    total_score_array = []\n",
    "    \n",
    "    for case in range(number_of_trials):\n",
    "        dice_1 = random.randint(lowest_val,highest_val) # outcome of first dice\n",
    "        dice_2 = random.randint(lowest_val,highest_val) # outcome of second dice\n",
    "\n",
    "        X = min(dice_1,dice_2)\n",
    "        Y = max(dice_1,dice_2)\n",
    "        BOOL = (X==Y)\n",
    "        cutoff_score = 9\n",
    "        \n",
    "        total_score = basic_score_matrix[X-1][Y-1]\n",
    "        \n",
    "        rule_0 = ((total_score < cutoff_score) or BOOL)\n",
    "        \n",
    "        if (rule_0):\n",
    "            X = random.randint(lowest_val,highest_val)\n",
    "            total_score = basic_score_matrix[X-1][Y-1]\n",
    "            \n",
    "        total_score_array.append(total_score)\n",
    "        \n",
    "    return np.array(total_score_array)"
   ]
  },
  {
   "cell_type": "code",
   "execution_count": 24,
   "id": "f75f1211",
   "metadata": {},
   "outputs": [
    {
     "name": "stdout",
     "output_type": "stream",
     "text": [
      "count    1000000.000000\n",
      "mean          13.662144\n",
      "std            9.389391\n",
      "min          -80.000000\n",
      "25%           10.000000\n",
      "50%           13.000000\n",
      "75%           16.000000\n",
      "max           38.000000\n",
      "dtype: float64\n",
      " \n",
      "Expectation value of score = 13.662144\n"
     ]
    },
    {
     "data": {
      "image/png": "[encoded data removed]",
      "text/plain": [
       "<Figure size 640x480 with 1 Axes>"
      ]
     },
     "metadata": {},
     "output_type": "display_data"
    }
   ],
   "source": [
    "# Let's play the same game, but now with the updated, i.e. strategy3_score:\n",
    "# Example, say we want play the game with 10**6 runs as we did before. Then,\n",
    "\n",
    "play_zarconia(strategy3_score,number_trials=10**6,lowest_val=lowest_val,highest_val=highest_val)"
   ]
  },
  {
   "cell_type": "code",
   "execution_count": 25,
   "id": "9e72e98e",
   "metadata": {},
   "outputs": [],
   "source": [
    "# This strategy looks better than both strategy1 and strategy2, if we look at the median score (here 13)."
   ]
  },
  {
   "cell_type": "code",
   "execution_count": 26,
   "id": "6552a8e8",
   "metadata": {},
   "outputs": [],
   "source": [
    "# ANALYTICAL EXPRESSION FOR THE EXPECTATION VALUE OF THE SCORE ACCORDING TO STRATEGY3:\n",
    "\n",
    "# We can write an analytical expression for the expectation value of the score according to strategy3, but\n",
    "# I'm not going to do that here beacuse it is very similar to the one we wrote for strategy2.\n",
    "# I will rather implement the analytical expression below here as 'strategy3_analytic_score_expectation_value(cutoff_score)'\n",
    "# where the meaning of 'cutoff_score' is obvious.\n",
    "\n",
    "def g_step_function(X,Y,tot_score,cutoff_score):\n",
    "    result = 1.0\n",
    "    if (tot_score<cutoff_score or X==Y):\n",
    "        result = 0.0\n",
    "    return result\n",
    "\n",
    "\n",
    "def strategy3_analytic_score_expectation_value(cutoff_score):\n",
    "    global expectation_value_of_second_roll_list\n",
    "    expectation_value = 0\n",
    "    for N in range(lowest_val,highest_val+1):\n",
    "        for M in range(N,highest_val+1):\n",
    "            X = min(N,M)\n",
    "            Y = max(N,M)\n",
    "            tot_score = calculate_score(X,Y)\n",
    "            if (g_step_function(X,Y,tot_score,cutoff_score)==1.0):\n",
    "                expectation_value +=prob(X,Y)*float(X+Y+bonus(X,Y)-penalty(X,Y))\n",
    "            else:\n",
    "                expectation_value +=prob(X,Y)*expectation_value_of_second_roll_list[Y-1]\n",
    "    return expectation_value    "
   ]
  },
  {
   "cell_type": "code",
   "execution_count": 27,
   "id": "77e59855",
   "metadata": {},
   "outputs": [
    {
     "name": "stdout",
     "output_type": "stream",
     "text": [
      "      cutoff_score        expectation value of score (analytical)\n",
      "            0             13.035\n",
      "            1             13.035\n",
      "            2             13.035\n",
      "            3             13.035\n",
      "            4             13.035\n",
      "            5             13.131\n",
      "            6             13.221\n",
      "            7             13.409\n",
      "            8             13.535\n",
      "            9             13.669\n",
      "           10             13.749\n",
      "           11             13.745\n",
      "           12             13.699\n",
      "           13             13.523\n",
      "           14             13.319\n",
      "           15             12.965\n",
      "           16             12.735\n",
      "           17             12.465\n",
      "           18             12.295\n",
      "           19             11.945\n",
      "           20             11.945\n",
      "           21             11.945\n",
      "           22             11.945\n",
      "           23             11.441\n",
      "           24             11.441\n",
      "           25             11.441\n",
      "           26             11.441\n",
      "           27             11.129\n",
      "           28             11.129\n",
      "           29             11.129\n",
      "           30             11.129\n",
      "           31             10.735\n",
      "           32             10.735\n",
      "           33             10.735\n",
      "           34             10.735\n",
      "           35             10.255\n",
      "           36             10.255\n",
      "           37             10.255\n",
      "           38             10.255\n",
      "           39             9.665\n"
     ]
    }
   ],
   "source": [
    "# I calculate below the numerical values of the analytic expectation values of the score \n",
    "# in function of cutoff_score. I choose 0<=cutoff_score<=maximum_possible_score\n",
    "# -- where, obviously, in this case, maximum_possible_score = 38.\n",
    "\n",
    "decimal_precision = 5\n",
    "maximum_possible_score = 39\n",
    "\n",
    "print(\"{:^25} {:>5}\".format(\"cutoff_score\",\"expectation value of score (analytical)\"))\n",
    "for cutoff_score in range(maximum_possible_score+1): # '+2' because we want to include the case Y<11\n",
    "    answer = strategy3_analytic_score_expectation_value(cutoff_score)\n",
    "    print(\"{:^25} {:>5}\".format(cutoff_score,round(answer,decimal_precision)))"
   ]
  },
  {
   "cell_type": "code",
   "execution_count": 28,
   "id": "d807270f",
   "metadata": {},
   "outputs": [],
   "source": [
    "# From the table above, we see that the expectation value for the score either decreases (or stay constant in an interval)\n",
    "# with respect to the cutoff_score. In general, the higher the cutoff_score, the lower the expectation value of the score.\n",
    "\n",
    "# Here too, we find that the expectation value has a tight upper bound of 12.3145, which is the same upper bound\n",
    "# we found for strategy2 when n<=2."
   ]
  },
  {
   "cell_type": "code",
   "execution_count": 29,
   "id": "ca23ddd6",
   "metadata": {},
   "outputs": [],
   "source": [
    "# BUT a good strategy, in my opinion, would be one where we have the chance of incurring a penalty minimized.\n",
    "# Hence, one can accumulate positive points as much as possible.\n",
    "\n",
    "# The probability that one incurs a penalty is P(X==Y) = 10/100 = 0.1 at a single run. \n",
    "# Thus, a chance of 0.9 of NOT incurring a penalty.\n",
    "\n",
    "# Thus, in strategy1, the player gets penalized 10% of the time.\n",
    "\n",
    "# In strategy2, the probability P of getting penalized is: \n",
    "#                    P = [P(Y<5 or X==Y)]*P(X==Y)\n",
    "#                    P = [0.16 + 0.1]*0.1\n",
    "#                    P = 0.026\n",
    "# In general, for strategy2,\n",
    "#                    P = [P(Y<n or X==Y)]*P(X==Y)\n",
    "#                    P = [n*(n-1)/100 + P(X==Y)]*P(X==Y)\n",
    "\n",
    "# For strategy3, the probability P of getting a penalty is:\n",
    "#                    P = [P(first_score<9 or X==Y)]*P(X==Y)\n",
    "# One can write a mathematical expression for the probability above and even extend it for a generic 'cutoff_score':\n",
    "#                    P = [P(first_score<cutoff_score or X==Y)]*P(X==Y)     Eq. ***\n",
    "# This can be done using enumerative combinatorics. A neat way to do this in Python is to use symPy.\n",
    "# I am not going to write the analytical mathematical expression here for the sake of convenience.\n"
   ]
  },
  {
   "cell_type": "code",
   "execution_count": 30,
   "id": "19bd7f05",
   "metadata": {},
   "outputs": [],
   "source": [
    "# Continuing with the last comment above, if we choose to re-roll ONLY X during the second turn based on a condition C\n",
    "#  -- besides the condition X==Y -- we note that C will most probably increase the probability of incurring a penalty\n",
    "# at the second turn because [P(C or X==Y)]>= P(X==Y). \n",
    "# Thus, the probability of getting a penalty at the second turn based on the composite condition (C or X==Y) has \n",
    "# a tight lower bound of value:\n",
    "#                    P = [P(C or X==Y)]*P(X==Y) >=  P(X==Y)*P(X==Y)\n",
    "#                    P >= 0.01\n",
    "# This means that a good strategy could be to simply re-roll X when X==Y.\n",
    "# This strategy, which I call 'strategy4', is equivalent to strategy2 with C=(Y<1) (or even C=Y<2). \n",
    "# Hence, we expect the analytical expectation value of the score to be 12.3145 for strategy4."
   ]
  },
  {
   "cell_type": "code",
   "execution_count": 31,
   "id": "b063b292",
   "metadata": {},
   "outputs": [],
   "source": [
    "# I implement the score function for strategy4 below as 'strategy4_score' and simulate the play with a million runs."
   ]
  },
  {
   "cell_type": "code",
   "execution_count": 32,
   "id": "2cb2cf64",
   "metadata": {},
   "outputs": [],
   "source": [
    "def strategy4_score(number_of_trials,lowest_val=1,highest_val=10):\n",
    "    \"\"\"\n",
    "    Function returns a numpy array of the scores\n",
    "    *lowest_val = lowest value on dice\n",
    "    *highest_val = highest value on dice\n",
    "    \"\"\"\n",
    "    total_score_array = []\n",
    "    \n",
    "    for case in range(number_of_trials):\n",
    "        dice_1 = random.randint(lowest_val,highest_val) # outcome of first dice\n",
    "        dice_2 = random.randint(lowest_val,highest_val) # outcome of second dice\n",
    "\n",
    "        X = min(dice_1,dice_2)\n",
    "        Y = max(dice_1,dice_2) \n",
    "        \n",
    "        rule_0 = (X==Y)\n",
    "        \n",
    "        if (rule_0):\n",
    "            X = random.randint(lowest_val,highest_val)\n",
    "        \n",
    "        total_score = basic_score_matrix[X-1][Y-1]\n",
    "            \n",
    "        total_score_array.append(total_score)\n",
    "        \n",
    "\n",
    "    return np.array(total_score_array)"
   ]
  },
  {
   "cell_type": "code",
   "execution_count": 33,
   "id": "00f1b083",
   "metadata": {},
   "outputs": [
    {
     "name": "stdout",
     "output_type": "stream",
     "text": [
      "count    1000000.000000\n",
      "mean          13.043482\n",
      "std            8.663881\n",
      "min          -80.000000\n",
      "25%            9.000000\n",
      "50%           12.000000\n",
      "75%           15.000000\n",
      "max           38.000000\n",
      "dtype: float64\n",
      " \n",
      "Expectation value of score = 13.043482\n"
     ]
    },
    {
     "data": {
      "image/png": "[encoded data removed]",
      "text/plain": [
       "<Figure size 640x480 with 1 Axes>"
      ]
     },
     "metadata": {},
     "output_type": "display_data"
    }
   ],
   "source": [
    "#let's play the same game, but now with the updated, i.e. strategy4_score:\n",
    "#Example, say we want play the game with 10**6 runs as we did before. Then,\n",
    "\n",
    "play_zarconia(strategy4_score,number_trials=10**6,lowest_val=lowest_val,highest_val=highest_val)"
   ]
  },
  {
   "cell_type": "code",
   "execution_count": 34,
   "id": "e877ad5c",
   "metadata": {},
   "outputs": [],
   "source": [
    "# As we can see from the last histogram above, compared to those of strategy1, strategy2 and strategy3,\n",
    "# we hardly incur a penalty when we use strategy4."
   ]
  },
  {
   "cell_type": "code",
   "execution_count": 35,
   "id": "f65314da",
   "metadata": {},
   "outputs": [],
   "source": [
    "# FINAL COMMENTS:\n",
    "\n",
    "# One may ask why the score expectation value obtained from the analytical expressions\n",
    "# in the cases of strategy2, strategy3 and strategy4 (if you want), are not that close to the simulated expectation values\n",
    "# as we saw in the case of strategy1.\n",
    "# The answer to this is that the possibility of re-rolling a second dice based on a certain condition implies that\n",
    "# we need relatively more runs than we needed in strategy1 (where we didn't re-roll any dice) in order to reasonably\n",
    "# converge the simulation. \n",
    
    "\n",
    "# Analytical analyses done above may easily to extended to considering whether to roll all two dices or not \n",
    "# -- and if YES, under what optimal conditions."
   ]
  },
  {
   "cell_type": "code",
   "execution_count": null,
   "id": "1f648352",
   "metadata": {},
   "outputs": [],
   "source": []
  }
 ],
 "metadata": {
  "kernelspec": {
   "display_name": "Python 3 (ipykernel)",
   "language": "python",
   "name": "python3"
  },
  "language_info": {
   "codemirror_mode": {
    "name": "ipython",
    "version": 3
   },
   "file_extension": ".py",
   "mimetype": "text/x-python",
   "name": "python",
   "nbconvert_exporter": "python",
   "pygments_lexer": "ipython3",
   "version": "3.11.7"
  }
 },
 "nbformat": 4,
 "nbformat_minor": 5
}
